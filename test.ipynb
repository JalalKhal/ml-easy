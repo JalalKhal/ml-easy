{
 "cells": [
  {
   "cell_type": "code",
   "id": "initial_id",
   "metadata": {
    "collapsed": true,
    "ExecuteTime": {
     "end_time": "2024-07-25T17:34:11.063803Z",
     "start_time": "2024-07-25T17:34:10.854851Z"
    }
   },
   "source": "import pandas as pd",
   "outputs": [],
   "execution_count": 1
  },
  {
   "metadata": {
    "ExecuteTime": {
     "end_time": "2024-07-25T17:34:31.760301Z",
     "start_time": "2024-07-25T17:34:31.756383Z"
    }
   },
   "cell_type": "code",
   "source": "path = \"/home/khaldi/Documents/github_repos/refined_mlflow/recipes/test.csv\"",
   "id": "f52be6d4c82261d5",
   "outputs": [],
   "execution_count": 2
  },
  {
   "metadata": {
    "ExecuteTime": {
     "end_time": "2024-07-25T18:26:37.550906Z",
     "start_time": "2024-07-25T18:26:37.545116Z"
    }
   },
   "cell_type": "code",
   "source": "df = pd.read_csv(path)",
   "id": "1a02e9a6dadc4ed7",
   "outputs": [],
   "execution_count": 12
  },
  {
   "metadata": {
    "ExecuteTime": {
     "end_time": "2024-07-25T18:26:41.507312Z",
     "start_time": "2024-07-25T18:26:41.407591Z"
    }
   },
   "cell_type": "code",
   "source": "df.apply()",
   "id": "bfa9e45f35850c31",
   "outputs": [
    {
     "ename": "TypeError",
     "evalue": "DataFrame.apply() missing 1 required positional argument: 'func'",
     "output_type": "error",
     "traceback": [
      "\u001B[0;31m---------------------------------------------------------------------------\u001B[0m",
      "\u001B[0;31mTypeError\u001B[0m                                 Traceback (most recent call last)",
      "Cell \u001B[0;32mIn[14], line 1\u001B[0m\n\u001B[0;32m----> 1\u001B[0m \u001B[43mdf\u001B[49m\u001B[38;5;241;43m.\u001B[39;49m\u001B[43mapply\u001B[49m\u001B[43m(\u001B[49m\u001B[43m)\u001B[49m\n",
      "\u001B[0;31mTypeError\u001B[0m: DataFrame.apply() missing 1 required positional argument: 'func'"
     ]
    }
   ],
   "execution_count": 14
  },
  {
   "metadata": {
    "ExecuteTime": {
     "end_time": "2024-07-25T18:26:39.778077Z",
     "start_time": "2024-07-25T18:26:39.775079Z"
    }
   },
   "cell_type": "code",
   "source": "df = df[[\"review_count\", \"review_score\", \"category\"]]",
   "id": "8ff1eab3aefa7422",
   "outputs": [],
   "execution_count": 13
  },
  {
   "metadata": {
    "ExecuteTime": {
     "end_time": "2024-07-25T17:35:37.773242Z",
     "start_time": "2024-07-25T17:35:37.763073Z"
    }
   },
   "cell_type": "code",
   "source": "df.to_csv(path, index=False)",
   "id": "768867ea5e46804d",
   "outputs": [],
   "execution_count": 11
  },
  {
   "metadata": {
    "ExecuteTime": {
     "end_time": "2024-07-25T18:26:44.807749Z",
     "start_time": "2024-07-25T18:26:44.803056Z"
    }
   },
   "cell_type": "code",
   "source": "df",
   "id": "ec9aa2982bb5bc23",
   "outputs": [
    {
     "data": {
      "text/plain": [
       "     review_count  review_score        category\n",
       "0             220           1.7        Clothing\n",
       "1             903           3.2  Home & Kitchen\n",
       "2             163           4.5            Toys\n",
       "3             951           3.9            Toys\n",
       "4             220           4.2           Books\n",
       "..            ...           ...             ...\n",
       "995           494           3.6  Home & Kitchen\n",
       "996           701           4.8  Home & Kitchen\n",
       "997           287           1.3          Sports\n",
       "998           720           1.2          Sports\n",
       "999           114           2.1            Toys\n",
       "\n",
       "[1000 rows x 3 columns]"
      ],
      "text/html": [
       "<div>\n",
       "<style scoped>\n",
       "    .dataframe tbody tr th:only-of-type {\n",
       "        vertical-align: middle;\n",
       "    }\n",
       "\n",
       "    .dataframe tbody tr th {\n",
       "        vertical-align: top;\n",
       "    }\n",
       "\n",
       "    .dataframe thead th {\n",
       "        text-align: right;\n",
       "    }\n",
       "</style>\n",
       "<table border=\"1\" class=\"dataframe\">\n",
       "  <thead>\n",
       "    <tr style=\"text-align: right;\">\n",
       "      <th></th>\n",
       "      <th>review_count</th>\n",
       "      <th>review_score</th>\n",
       "      <th>category</th>\n",
       "    </tr>\n",
       "  </thead>\n",
       "  <tbody>\n",
       "    <tr>\n",
       "      <th>0</th>\n",
       "      <td>220</td>\n",
       "      <td>1.7</td>\n",
       "      <td>Clothing</td>\n",
       "    </tr>\n",
       "    <tr>\n",
       "      <th>1</th>\n",
       "      <td>903</td>\n",
       "      <td>3.2</td>\n",
       "      <td>Home &amp; Kitchen</td>\n",
       "    </tr>\n",
       "    <tr>\n",
       "      <th>2</th>\n",
       "      <td>163</td>\n",
       "      <td>4.5</td>\n",
       "      <td>Toys</td>\n",
       "    </tr>\n",
       "    <tr>\n",
       "      <th>3</th>\n",
       "      <td>951</td>\n",
       "      <td>3.9</td>\n",
       "      <td>Toys</td>\n",
       "    </tr>\n",
       "    <tr>\n",
       "      <th>4</th>\n",
       "      <td>220</td>\n",
       "      <td>4.2</td>\n",
       "      <td>Books</td>\n",
       "    </tr>\n",
       "    <tr>\n",
       "      <th>...</th>\n",
       "      <td>...</td>\n",
       "      <td>...</td>\n",
       "      <td>...</td>\n",
       "    </tr>\n",
       "    <tr>\n",
       "      <th>995</th>\n",
       "      <td>494</td>\n",
       "      <td>3.6</td>\n",
       "      <td>Home &amp; Kitchen</td>\n",
       "    </tr>\n",
       "    <tr>\n",
       "      <th>996</th>\n",
       "      <td>701</td>\n",
       "      <td>4.8</td>\n",
       "      <td>Home &amp; Kitchen</td>\n",
       "    </tr>\n",
       "    <tr>\n",
       "      <th>997</th>\n",
       "      <td>287</td>\n",
       "      <td>1.3</td>\n",
       "      <td>Sports</td>\n",
       "    </tr>\n",
       "    <tr>\n",
       "      <th>998</th>\n",
       "      <td>720</td>\n",
       "      <td>1.2</td>\n",
       "      <td>Sports</td>\n",
       "    </tr>\n",
       "    <tr>\n",
       "      <th>999</th>\n",
       "      <td>114</td>\n",
       "      <td>2.1</td>\n",
       "      <td>Toys</td>\n",
       "    </tr>\n",
       "  </tbody>\n",
       "</table>\n",
       "<p>1000 rows × 3 columns</p>\n",
       "</div>"
      ]
     },
     "execution_count": 15,
     "metadata": {},
     "output_type": "execute_result"
    }
   ],
   "execution_count": 15
  },
  {
   "metadata": {
    "ExecuteTime": {
     "end_time": "2024-07-25T18:27:18.571662Z",
     "start_time": "2024-07-25T18:27:18.296296Z"
    }
   },
   "cell_type": "code",
   "source": [
    "\n",
    "from sklearn.preprocessing import LabelEncoder\n",
    "\n",
    "le = LabelEncoder()\n",
    "\n",
    "df[\"category\"] = le.fit_transform(df[\"category\"].astype(str))\n",
    "\n",
    "# Display the first few rows of the transformed dataset\n",
    "print(df.head())"
   ],
   "id": "15f3097620a0c322",
   "outputs": [
    {
     "name": "stdout",
     "output_type": "stream",
     "text": [
      "   review_count  review_score  category\n",
      "0           220           1.7         1\n",
      "1           903           3.2         4\n",
      "2           163           4.5         6\n",
      "3           951           3.9         6\n",
      "4           220           4.2         0\n"
     ]
    }
   ],
   "execution_count": 16
  },
  {
   "metadata": {
    "ExecuteTime": {
     "end_time": "2024-07-25T18:27:24.539502Z",
     "start_time": "2024-07-25T18:27:24.535001Z"
    }
   },
   "cell_type": "code",
   "source": "df.to_csv(path, index=False)\n",
   "id": "e5e99d2d8f3330db",
   "outputs": [],
   "execution_count": 17
  },
  {
   "metadata": {},
   "cell_type": "code",
   "outputs": [],
   "execution_count": null,
   "source": "",
   "id": "364d5afc5b3e88d5"
  }
 ],
 "metadata": {
  "kernelspec": {
   "display_name": "Python 3",
   "language": "python",
   "name": "python3"
  },
  "language_info": {
   "codemirror_mode": {
    "name": "ipython",
    "version": 2
   },
   "file_extension": ".py",
   "mimetype": "text/x-python",
   "name": "python",
   "nbconvert_exporter": "python",
   "pygments_lexer": "ipython2",
   "version": "2.7.6"
  }
 },
 "nbformat": 4,
 "nbformat_minor": 5
}
